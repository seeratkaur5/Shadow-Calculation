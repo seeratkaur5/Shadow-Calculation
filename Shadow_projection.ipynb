{
 "cells": [
  {
   "cell_type": "code",
   "execution_count": 3,
   "metadata": {
    "scrolled": true
   },
   "outputs": [
    {
     "ename": "ModuleNotFoundError",
     "evalue": "No module named 'folium'",
     "output_type": "error",
     "traceback": [
      "\u001b[1;31m---------------------------------------------------------------------------\u001b[0m",
      "\u001b[1;31mModuleNotFoundError\u001b[0m                       Traceback (most recent call last)",
      "\u001b[1;32m<ipython-input-3-13d1655efe72>\u001b[0m in \u001b[0;36m<module>\u001b[1;34m\u001b[0m\n\u001b[0;32m      1\u001b[0m \u001b[1;32mimport\u001b[0m \u001b[0mpandas\u001b[0m \u001b[1;32mas\u001b[0m \u001b[0mpd\u001b[0m\u001b[1;33m\u001b[0m\u001b[1;33m\u001b[0m\u001b[0m\n\u001b[1;32m----> 2\u001b[1;33m \u001b[1;32mimport\u001b[0m \u001b[0mfolium\u001b[0m\u001b[1;33m\u001b[0m\u001b[1;33m\u001b[0m\u001b[0m\n\u001b[0m\u001b[0;32m      3\u001b[0m \u001b[1;32mimport\u001b[0m \u001b[0mjson\u001b[0m\u001b[1;33m\u001b[0m\u001b[1;33m\u001b[0m\u001b[0m\n\u001b[0;32m      4\u001b[0m \u001b[1;32mfrom\u001b[0m \u001b[0mpvlib\u001b[0m \u001b[1;32mimport\u001b[0m \u001b[0msolarposition\u001b[0m\u001b[1;33m\u001b[0m\u001b[1;33m\u001b[0m\u001b[0m\n\u001b[0;32m      5\u001b[0m \u001b[1;32mimport\u001b[0m \u001b[0mpandas\u001b[0m \u001b[1;32mas\u001b[0m \u001b[0mpd\u001b[0m\u001b[1;33m\u001b[0m\u001b[1;33m\u001b[0m\u001b[0m\n",
      "\u001b[1;31mModuleNotFoundError\u001b[0m: No module named 'folium'"
     ]
    }
   ],
   "source": [
    "import pandas as pd\n",
    "import folium\n",
    "import json\n",
    "from pvlib import solarposition\n",
    "import pandas as pd\n",
    "import numpy as np\n",
    "import math\n",
    "from pyproj import Proj, transform\n",
    "import pyproj\n",
    "from shapely import geometry, ops\n",
    "from shapely.geometry import mapping\n",
    "import folium\n",
    "import os\n",
    "import cv2\n",
    "import warnings\n",
    "warnings.filterwarnings('ignore')"
   ]
  },
  {
   "cell_type": "code",
   "execution_count": 4,
   "metadata": {},
   "outputs": [],
   "source": [
    "building_points = [\n",
    "            [\n",
    "              45.415037, -75.701278              \n",
    "            ],\n",
    "            [\n",
    "              45.414986, -75.701399              \n",
    "            ],\n",
    "            [\n",
    "              45.414897, -75.701325              \n",
    "            ],\n",
    "            [\n",
    "              45.414948, -75.701204              \n",
    "            ],\n",
    "            [\n",
    "              45.415037, -75.701278              \n",
    "            ]\n",
    "          ]"
   ]
  },
  {
   "cell_type": "code",
   "execution_count": null,
   "metadata": {},
   "outputs": [],
   "source": [
    "# Plotting Building on map"
   ]
  },
  {
   "cell_type": "code",
   "execution_count": 4,
   "metadata": {},
   "outputs": [
    {
     "data": {
      "text/html": [
       "<div style=\"width:100%;\"><div style=\"position:relative;width:100%;height:0;padding-bottom:60%;\"><span style=\"color:#565656\">Make this Notebook Trusted to load map: File -> Trust Notebook</span><iframe src=\"about:blank\" style=\"position:absolute;width:100%;height:100%;left:0;top:0;border:none !important;\" data-html=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 onload=\"this.contentDocument.open();this.contentDocument.write(atob(this.getAttribute('data-html')));this.contentDocument.close();\" allowfullscreen webkitallowfullscreen mozallowfullscreen></iframe></div></div>"
      ],
      "text/plain": [
       "<folium.folium.Map at 0x1d93bd3ab48>"
      ]
     },
     "execution_count": 4,
     "metadata": {},
     "output_type": "execute_result"
    }
   ],
   "source": [
    "map1 = folium.Map(location=[ 45.415037, -75.701278], zoom_start=20, control_scale=True)\n",
    "\n",
    "folium.Polygon(locations=building_points,color='orange',fill=True,opacity=0.3,fill_color='orange', fill_opacity=0.2).add_to(map1)    \n",
    "\n",
    "map1\n",
    "        "
   ]
  },
  {
   "cell_type": "code",
   "execution_count": null,
   "metadata": {},
   "outputs": [],
   "source": [
    "# Getting sun's azimuth and elevation angle for particular lat, lon and date range "
   ]
  },
  {
   "cell_type": "code",
   "execution_count": 11,
   "metadata": {},
   "outputs": [
    {
     "name": "stdout",
     "output_type": "stream",
     "text": [
      "                           apparent_zenith     zenith  apparent_elevation  \\\n",
      "Date                                                                        \n",
      "2020-09-28 10:00:00-04:00        61.208188  61.238657           28.791812   \n",
      "2020-09-28 10:30:00-04:00        57.323513  57.349668           32.676487   \n",
      "2020-09-28 11:00:00-04:00        53.953079  53.976155           36.046921   \n",
      "\n",
      "                           elevation     azimuth  equation_of_time  \n",
      "Date                                                                \n",
      "2020-09-28 10:00:00-04:00  28.761343  128.563931          9.548291  \n",
      "2020-09-28 10:30:00-04:00  32.650332  136.020909          9.555256  \n",
      "2020-09-28 11:00:00-04:00  36.023845  144.132022          9.562221  \n"
     ]
    }
   ],
   "source": [
    "times = pd.date_range('2020-09-28 14:00:00', '2020-09-28 15:30:00', closed='left', freq='30min')\n",
    "dataframe = pd.DataFrame({'Date': times})  \n",
    "dataframe.Date = dataframe.Date.dt.tz_localize('UTC').dt.tz_convert('America/Toronto')\n",
    "\n",
    "latitude, longitude = 45.415037, -75.701278\n",
    "solarpos = solarposition.get_solarposition(dataframe.Date, latitude, longitude)\n",
    "\n",
    "# remove nighttime\n",
    "solarpos = solarpos.loc[solarpos['apparent_elevation'] > 0, :]\n",
    "print(solarpos)"
   ]
  },
  {
   "cell_type": "code",
   "execution_count": null,
   "metadata": {},
   "outputs": [],
   "source": [
    "# shadow calculation with assumed height as 7"
   ]
  },
  {
   "cell_type": "code",
   "execution_count": 18,
   "metadata": {},
   "outputs": [
    {
     "name": "stdout",
     "output_type": "stream",
     "text": [
      "12.737264104635326\n",
      "-9.959433225236085\n",
      "7.940251047875949\n",
      "45.415037 -75.701278\n",
      "5055578.7931976775 -13240980.762439694\n",
      "5055568.8337644525 -13240972.822188646\n",
      "45.414947532889116 -75.70126038346477\n",
      "45.414986 -75.701399\n",
      "5055573.115903648 -13241035.300686\n",
      "5055563.156470423 -13241027.360434951\n",
      "45.414896532889124 -75.70138138361075\n",
      "45.414897 -75.701325\n",
      "5055563.208468967 -13241001.94666351\n",
      "5055553.249035742 -13240994.006412461\n",
      "45.41480753288913 -75.70130738352148\n",
      "45.414948 -75.701204\n",
      "5055568.885762998 -13240947.40869357\n",
      "5055558.926329773 -13240939.468442522\n",
      "45.41485853288912 -75.7011863833755\n",
      "45.415037 -75.701278\n",
      "5055578.7931976775 -13240980.762439694\n",
      "5055568.8337644525 -13240972.822188646\n",
      "45.414947532889116 -75.70126038346477\n",
      "shadow2020-9-28-10-0-0.html\n",
      "10.913469513504579\n",
      "-7.578267590960777\n",
      "7.853259014064633\n",
      "45.415037 -75.701278\n",
      "5055578.7931976775 -13240980.762439694\n",
      "5055571.214930086 -13240972.90918068\n",
      "45.41496892326394 -75.70126057646864\n",
      "45.414986 -75.701399\n",
      "5055573.115903648 -13241035.300686\n",
      "5055565.537636057 -13241027.447426986\n",
      "45.41491792326395 -75.70138157661302\n",
      "45.414897 -75.701325\n",
      "5055563.208468967 -13241001.94666351\n",
      "5055555.630201376 -13240994.093404496\n",
      "45.414828923263954 -75.70130757652473\n",
      "45.414948 -75.701204\n",
      "5055568.885762998 -13240947.40869357\n",
      "5055561.307495407 -13240939.555434557\n",
      "45.41487992326395 -75.70118657638035\n",
      "45.415037 -75.701278\n",
      "5055578.7931976775 -13240980.762439694\n",
      "5055571.214930086 -13240972.90918068\n",
      "45.41496892326394 -75.70126057646864\n",
      "shadow2020-9-28-10-30-0.html\n",
      "9.618099717941194\n",
      "-5.63543263364429\n",
      "7.794212033035633\n",
      "45.415037 -75.701278\n",
      "5055578.7931976775 -13240980.762439694\n",
      "5055573.157765044 -13240972.968227662\n",
      "45.41498637604731 -75.70126070747256\n",
      "45.414986 -75.701399\n",
      "5055573.115903648 -13241035.300686\n",
      "5055567.480471014 -13241027.506473968\n",
      "45.41493537604732 -75.70138170761582\n",
      "45.414897 -75.701325\n",
      "5055563.208468967 -13241001.94666351\n",
      "5055557.573036334 -13240994.152451478\n",
      "45.414846376047315 -75.7013077075282\n",
      "45.414948 -75.701204\n",
      "5055568.885762998 -13240947.40869357\n",
      "5055563.250330364 -13240939.614481539\n",
      "45.41489737604732 -75.70118670738492\n",
      "45.415037 -75.701278\n",
      "5055578.7931976775 -13240980.762439694\n",
      "5055573.157765044 -13240972.968227662\n",
      "45.41498637604731 -75.70126070747256\n",
      "shadow2020-9-28-11-0-0.html\n"
     ]
    }
   ],
   "source": [
    "counter = 0\n",
    "for index, row in solpos.iterrows():\n",
    "    azimuth = row['azimuth']\n",
    "    elevation = row['apparent_elevation']\n",
    "    h=7\n",
    "    shadowheight = h / math.tan(el * math.pi / 180)\n",
    "    print(shadowheight)\n",
    "    x = -1 * math.sin(math.radians(azimuth)) * abs(shadowheight)\n",
    "    print(x)\n",
    "    y =  -1 * math.cos(math.radians(azimuth)) * abs(shadowheight)\n",
    "    print(y)\n",
    "    \n",
    "    map1 = folium.Map(location=[ 45.415037, -75.701278], zoom_start=20, control_scale=True)\n",
    "    \n",
    "    lines = []\n",
    "    for point in building_points: \n",
    "        print(point[0],point[1])\n",
    "        inProj = Proj(init='epsg:3857')\n",
    "        outProj = Proj(init='epsg:4326')\n",
    "        lat_x,lat_y = transform(outProj,inProj,point[0],point[1])\n",
    "        print(lat_x,lat_y)\n",
    "        new_x = x + lat_x\n",
    "        new_y = y + lat_y\n",
    "        print(new_x,new_y)\n",
    "        new_lat,new_lon = transform(inProj,outProj,new_x,new_y)\n",
    "        print(new_lat,new_lon)\n",
    "        line =[]\n",
    "        line.append((point[0],point[1]))\n",
    "        line.append((new_lat,new_lon))\n",
    "        lines.append(line)\n",
    "        \n",
    "    # combine them into a multi-linestring\n",
    "    multi_line = geometry.MultiLineString(lines)\n",
    "    p = mapping(multi_line.convex_hull)\n",
    "    shaow_coordinates = p['coordinates']\n",
    "    folium.Polygon(locations=shaow_coordinates, color='black',fill=True,opacity=0.1, fill_color='black', fill_opacity=0.5).add_to(map1)\n",
    "    folium.Polygon(locations=building_points,color='orange',fill=True,opacity=0.3,fill_color='orange', fill_opacity=0.2).add_to(map1)\n",
    "   \n",
    "    date_time = str(solarpos.index.year[counter])+'-' + str(solarpos.index.month[counter])+'-' +str(solarpos.index.day[counter])+'-' + str(solpos.index.hour[counter])+'-' + str(solpos.index.minute[counter])+'-' +str(solpos.index.second[counter])\n",
    "    name = 'shadow' + date_time + '.html'\n",
    "    print(name)\n",
    "    map1.save(name)\n",
    "    counter=counter+1"
   ]
  },
  {
   "cell_type": "code",
   "execution_count": null,
   "metadata": {},
   "outputs": [],
   "source": []
  }
 ],
 "metadata": {
  "kernelspec": {
   "display_name": "Python 3",
   "language": "python",
   "name": "python3"
  },
  "language_info": {
   "codemirror_mode": {
    "name": "ipython",
    "version": 3
   },
   "file_extension": ".py",
   "mimetype": "text/x-python",
   "name": "python",
   "nbconvert_exporter": "python",
   "pygments_lexer": "ipython3",
   "version": "3.7.4"
  }
 },
 "nbformat": 4,
 "nbformat_minor": 2
}
